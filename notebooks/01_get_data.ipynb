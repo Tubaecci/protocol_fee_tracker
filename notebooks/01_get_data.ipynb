{
 "cells": [
  {
   "cell_type": "markdown",
   "id": "4532aeba",
   "metadata": {},
   "source": [
    "## DeFi Fees & Revenue Tracker On Plume Mainnet\n"
   ]
  },
  {
   "cell_type": "markdown",
   "id": "24ddedf3",
   "metadata": {},
   "source": [
    "### Step 1. Get Defillama TVL data On Plume And Create Dataframe"
   ]
  },
  {
   "cell_type": "code",
   "execution_count": 34,
   "id": "de765cce",
   "metadata": {},
   "outputs": [
    {
     "name": "stdout",
     "output_type": "stream",
     "text": [
      "                  Protocol                   Category     TVL (USD)\n",
      "0              Morpho Blue                    Lending  5.658061e+07\n",
      "1                Curve DEX                       Dexs  8.836406e+06\n",
      "2    DeSyn Liquid Strategy           Yield Aggregator  1.682465e+08\n",
      "3                 Re7 Labs              Risk Curators  5.407904e+07\n",
      "4             Pell Network                  Restaking  1.693605e+08\n",
      "5                Midas RWA                        RWA  2.401717e+07\n",
      "6          Superstate USTB                        RWA  2.446426e+07\n",
      "7          Superstate USCC              Basis Trading  1.702485e+07\n",
      "8             Origin Ether             Liquid Staking  8.140618e+04\n",
      "9                  YieldFi           Yield Aggregator  1.098363e+07\n",
      "10                 Nucleus           Yield Aggregator  5.775652e+07\n",
      "11                 iZiSwap                       Dexs  4.147061e+06\n",
      "12     DeSyn Basis Trading              Basis Trading  4.994855e+04\n",
      "13             Nest Credit                        RWA  6.686176e+07\n",
      "14                  DigiFT                        RWA  1.041322e+07\n",
      "15  Mystic Finance Lending                    Lending  5.411644e+07\n",
      "16         MatrixDock XAUM                        RWA  2.698973e+06\n",
      "17               OpenTrade                        RWA  7.149374e+05\n",
      "18                  Dinari                        RWA  6.186094e+00\n",
      "19               LayerBank                    Lending  1.070714e+06\n",
      "20          Avalon Finance                    Lending  5.285438e+04\n",
      "21                 Ambient                       Dexs  4.486101e+06\n",
      "22        Rooster Protocol                       Dexs  5.326235e+06\n",
      "23           Mineral Vault                        RWA  2.281639e+06\n",
      "24             Satori Perp                Derivatives  3.819336e+03\n",
      "25                 RealtyX                        RWA  4.716998e+05\n",
      "26             SuperReturn  Onchain Capital Allocator  8.119518e+05\n",
      "27               Skate AMM                       Dexs  1.616032e+01\n",
      "28            HARVEST FLOW                RWA Lending  3.008586e+05\n",
      "29             MultichainZ                    Lending  2.478116e+05\n",
      "30          SPICE Protocol                        RWA  5.522771e+04\n",
      "31                Credbull                       Farm  2.576124e+04\n",
      "32                  Solera                    Lending  2.456217e+04\n",
      "33  Legacy Canary Protocol           Yield Aggregator  1.177084e+04\n",
      "34         iZiSwap Classic                       Dexs  2.354243e+02\n",
      "35  Mystic Finance myPLUME             Liquid Staking  5.134007e+00\n"
     ]
    }
   ],
   "source": [
    "import requests\n",
    "import pandas as pd\n",
    "\n",
    "def get_plume_protocols_tvl():\n",
    "    url = \"https://api.llama.fi/protocols\"\n",
    "    response = requests.get(url)\n",
    "    all_protocols = response.json()\n",
    "\n",
    "    rows = []\n",
    "    for p in all_protocols:\n",
    "        if \"Plume Mainnet\" in p.get(\"chains\", []) and p.get(\"chainTvls\", {}).get(\"Plume Mainnet\"):\n",
    "            rows.append([\n",
    "                p.get(\"name\"),\n",
    "                p.get(\"category\", \"Unknown\"),\n",
    "                p[\"chainTvls\"][\"Plume Mainnet\"]\n",
    "            ])\n",
    "\n",
    "    df_protocols_tvl = pd.DataFrame(rows, columns=[\"Protocol\", \"Category\", \"TVL (USD)\"])\n",
    "    return df_protocols_tvl\n",
    "\n",
    "if __name__ == \"__main__\":\n",
    "    df_protocols_tvl = get_plume_protocols_tvl()\n",
    "    print(df_protocols_tvl)"
   ]
  },
  {
   "cell_type": "markdown",
   "id": "e5c11f6a",
   "metadata": {},
   "source": [
    "### Step 2: Get DefiLlama Revenue Data On Plume And Create Dataframe"
   ]
  },
  {
   "cell_type": "code",
   "execution_count": 25,
   "id": "c15ebfa4",
   "metadata": {},
   "outputs": [
    {
     "name": "stdout",
     "output_type": "stream",
     "text": [
      "          Protocol  24h Revenue (USD)  7d Revenue (USD)  30d Revenue (USD)  \\\n",
      "0         deBridge                  0                 0                 95   \n",
      "1      Satori Perp                  0                 2                105   \n",
      "2          Ambient                  0                 0                  0   \n",
      "3  Superstate USTB                107               873               2993   \n",
      "4    EISEN Finance                  0                 0                  6   \n",
      "5      ZNS Connect                  0                21                542   \n",
      "6  Superstate USCC                350              2445              10270   \n",
      "\n",
      "   Total Revenue (USD)  \n",
      "0                 1441  \n",
      "1                  452  \n",
      "2                    0  \n",
      "3                 2923  \n",
      "4                   18  \n",
      "5                24665  \n",
      "6                19945  \n"
     ]
    }
   ],
   "source": [
    "import requests\n",
    "import pandas as pd\n",
    "\n",
    "def get_plume_revenue():\n",
    "    url = \"https://api.llama.fi/overview/fees/Plume%20Mainnet?excludeTotalDataChart=true&excludeTotalDataChartBreakdown=true&dataType=dailyRevenue\"\n",
    "    response = requests.get(url)\n",
    "    data = response.json()\n",
    "\n",
    "    rows = []\n",
    "    for p in data.get(\"protocols\", []):\n",
    "        rows.append([\n",
    "            p.get(\"name\"),\n",
    "            p.get(\"total24h\", 0),\n",
    "            p.get(\"total7d\", 0),\n",
    "            p.get(\"total30d\", 0),\n",
    "            p.get(\"totalAllTime\", 0)\n",
    "        ])\n",
    "    df_protocols_revenue = pd.DataFrame(rows, columns=[\"Protocol\", \"24h Revenue (USD)\", \"7d Revenue (USD)\", \"30d Revenue (USD)\", \"Total Revenue (USD)\"])\n",
    "    return df_protocols_revenue\n",
    "\n",
    "if __name__ == \"__main__\":\n",
    "    df_protocols_revenue = get_plume_revenue()\n",
    "    print(df_protocols_revenue)"
   ]
  },
  {
   "cell_type": "markdown",
   "id": "223532f5",
   "metadata": {},
   "source": [
    "### Step 3: Get DefiLlama Fees Data On Plume And Create Dataframe"
   ]
  },
  {
   "cell_type": "code",
   "execution_count": 26,
   "id": "f4ebdb5e",
   "metadata": {},
   "outputs": [
    {
     "name": "stdout",
     "output_type": "stream",
     "text": [
      "           Protocol  24h Fees (USD)  7d Fees (USD)  30d Fees (USD)  \\\n",
      "0          deBridge               0              0              95   \n",
      "1       Satori Perp               0              2             105   \n",
      "2           Ambient             167            820            6358   \n",
      "3   Superstate USTB            3066          24433           83826   \n",
      "4     EISEN Finance               0              0               6   \n",
      "5       ZNS Connect               0             21             542   \n",
      "6   Superstate USCC            7430          57393          260330   \n",
      "7  Rooster Protocol            1601          10840           71133   \n",
      "\n",
      "   Total Fees (USD)  \n",
      "0              1441  \n",
      "1               452  \n",
      "2             31092  \n",
      "3             81894  \n",
      "4                18  \n",
      "5             24665  \n",
      "6            558516  \n",
      "7            203206  \n"
     ]
    }
   ],
   "source": [
    "import requests\n",
    "import pandas as pd\n",
    "\n",
    "def get_plume_fees():\n",
    "    url = \"https://api.llama.fi/overview/fees/Plume%20Mainnet?excludeTotalDataChart=true&excludeTotalDataChartBreakdown=true\"\n",
    "    response = requests.get(url)\n",
    "    data = response.json()\n",
    "\n",
    "    rows = []\n",
    "    for p in data.get(\"protocols\", []):\n",
    "        rows.append([\n",
    "            p.get(\"name\"),\n",
    "            p.get(\"total24h\", 0),\n",
    "            p.get(\"total7d\", 0),\n",
    "            p.get(\"total30d\", 0),\n",
    "            p.get(\"totalAllTime\", 0)\n",
    "        ])\n",
    "    df_protocols_fees = pd.DataFrame(rows, columns=[\"Protocol\", \"24h Fees (USD)\", \"7d Fees (USD)\", \"30d Fees (USD)\", \"Total Fees (USD)\"])\n",
    "    return df_protocols_fees\n",
    "\n",
    "if __name__ == \"__main__\":\n",
    "    df_protocols_fees = get_plume_fees()\n",
    "    print(df_protocols_fees)"
   ]
  },
  {
   "cell_type": "markdown",
   "id": "6867e315",
   "metadata": {},
   "source": [
    "### Step 4: Get CoinGecko Price and Market Cap Data"
   ]
  },
  {
   "cell_type": "code",
   "execution_count": 28,
   "id": "49ad6a80",
   "metadata": {},
   "outputs": [
    {
     "name": "stderr",
     "output_type": "stream",
     "text": [
      "Matching protocols to CoinGecko: 100%|██████████| 36/36 [00:00<00:00, 244.01it/s]\n"
     ]
    },
    {
     "name": "stdout",
     "output_type": "stream",
     "text": [
      "          Protocol Token Symbol  Current Price (USD)  Market Cap (USD)\n",
      "0  Superstate USCC         USCC            11.160000               0.0\n",
      "1     Origin Ether         OETH          4300.240000       235018231.0\n",
      "2         Credbull          CBL             0.000875          173225.0\n"
     ]
    }
   ],
   "source": [
    "import requests\n",
    "import pandas as pd\n",
    "from tqdm import tqdm\n",
    "\n",
    "def load_coingecko_list():\n",
    "    url = 'https://api.coingecko.com/api/v3/coins/list'\n",
    "    response = requests.get(url)\n",
    "    return response.json() if response.status_code == 200 else []\n",
    "\n",
    "def get_coingecko_id(protocol_name, coin_list):\n",
    "    # Try exact name match, then symbol match\n",
    "    protocol_name = protocol_name.lower()\n",
    "    for coin in coin_list:\n",
    "        if coin['name'].lower() == protocol_name:\n",
    "            return coin['id']\n",
    "    for coin in coin_list:\n",
    "        if coin['symbol'].lower() == protocol_name:\n",
    "            return coin['id']\n",
    "    return None\n",
    "\n",
    "def batch_fetch_market_data(coingecko_ids):\n",
    "    url = \"https://api.coingecko.com/api/v3/coins/markets\"\n",
    "    params = {\n",
    "        'vs_currency': 'usd',\n",
    "        'ids': ','.join(coingecko_ids),\n",
    "        'order': 'market_cap_desc',\n",
    "        'per_page': len(coingecko_ids),\n",
    "        'page': 1,\n",
    "        'sparkline': 'false'\n",
    "    }\n",
    "    response = requests.get(url, params=params)\n",
    "    return response.json() if response.status_code == 200 else []\n",
    "\n",
    "def get_plume_protocols_market_data():\n",
    "    # Get Plume protocols TVL DataFrame\n",
    "    tvl_df = get_plume_protocols_tvl()\n",
    "    coin_list = load_coingecko_list()\n",
    "    protocols = tvl_df['Protocol'].tolist()\n",
    "    \n",
    "    # Step 1: Find CoinGecko IDs\n",
    "    protocol_to_id = {}\n",
    "    for protocol in tqdm(protocols, desc=\"Matching protocols to CoinGecko\"):\n",
    "        cg_id = get_coingecko_id(protocol, coin_list)\n",
    "        if cg_id:\n",
    "            protocol_to_id[protocol] = cg_id\n",
    "    \n",
    "    # Step 2: Fetch market data\n",
    "    market_data = batch_fetch_market_data(list(protocol_to_id.values()))\n",
    "    cg_data_map = {d['id']: d for d in market_data}\n",
    "    \n",
    "    # Step 3: Build DataFrame\n",
    "    rows = []\n",
    "    for protocol, cg_id in protocol_to_id.items():\n",
    "        cg_data = cg_data_map.get(cg_id, {})\n",
    "        rows.append([\n",
    "            protocol,\n",
    "            cg_data.get('symbol', '').upper(),\n",
    "            cg_data.get('current_price', None),\n",
    "            cg_data.get('market_cap', None)\n",
    "        ])\n",
    "    df = pd.DataFrame(rows, columns=['Protocol', 'Token Symbol', 'Current Price (USD)', 'Market Cap (USD)'])\n",
    "    return df\n",
    "\n",
    "if __name__ == \"__main__\":\n",
    "    df_protocols_market_data = get_plume_protocols_market_data()\n",
    "    print(df_protocols_market_data)"
   ]
  },
  {
   "cell_type": "markdown",
   "id": "765293dc",
   "metadata": {},
   "source": [
    "### Use Joblib To Store Results"
   ]
  },
  {
   "cell_type": "code",
   "execution_count": 33,
   "id": "0fb77a24",
   "metadata": {},
   "outputs": [
    {
     "data": {
      "text/plain": [
       "['C:\\\\Users\\\\tobec\\\\OneDrive\\\\Documents\\\\protocol_tracker\\\\database\\\\df_protocols_market_data.joblib']"
      ]
     },
     "execution_count": 33,
     "metadata": {},
     "output_type": "execute_result"
    }
   ],
   "source": [
    "import joblib\n",
    "import os\n",
    "\n",
    "save_path = r\"C:\\Users\\tobec\\OneDrive\\Documents\\protocol_tracker\\database\"\n",
    "\n",
    "os.makedirs(save_path, exist_ok=True)\n",
    "\n",
    "joblib.dump(df_protocols_tvl, os.path.join(save_path, \"df_protocols_tvl.joblib\"))\n",
    "joblib.dump(df_protocols_revenue, os.path.join(save_path, \"df_protocols_revenue.joblib\"))\n",
    "joblib.dump(df_protocols_fees, os.path.join(save_path, \"df_protocols_fees.joblib\"))\n",
    "joblib.dump(df_protocols_market_data, os.path.join(save_path, \"df_protocols_market_data.joblib\"))"
   ]
  }
 ],
 "metadata": {
  "kernelspec": {
   "display_name": "protocol_tracker (3.11.9)",
   "language": "python",
   "name": "python3"
  },
  "language_info": {
   "codemirror_mode": {
    "name": "ipython",
    "version": 3
   },
   "file_extension": ".py",
   "mimetype": "text/x-python",
   "name": "python",
   "nbconvert_exporter": "python",
   "pygments_lexer": "ipython3",
   "version": "3.11.9"
  }
 },
 "nbformat": 4,
 "nbformat_minor": 5
}
